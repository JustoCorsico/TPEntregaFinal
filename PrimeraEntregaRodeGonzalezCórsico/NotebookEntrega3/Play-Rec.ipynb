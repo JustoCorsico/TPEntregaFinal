{
 "cells": [
  {
   "cell_type": "markdown",
   "metadata": {},
   "source": [
    "# Primer trabajo práctico Señales y sistemas"
   ]
  },
  {
   "cell_type": "markdown",
   "metadata": {},
   "source": [
    "## *Función de grabación y reproducción simultanea*"
   ]
  },
  {
   "cell_type": "markdown",
   "metadata": {},
   "source": [
    "- *Gonzalez Leonardo*\n",
    "- *Rode Valentin* \n",
    "- *Córsico Justo*\n"
   ]
  },
  {
   "cell_type": "markdown",
   "metadata": {},
   "source": [
    "Para el tercer y último punto se pedía escribir un código que nos permita reproducir y grabar simultaneamente un archivo wav, para finalmente medir la latencia entre esos dos eventos."
   ]
  },
  {
   "cell_type": "markdown",
   "metadata": {},
   "source": [
    "Para reproducir y grabar simultaneamente se importaron las siguientes librerías:"
   ]
  },
  {
   "cell_type": "code",
   "execution_count": 1,
   "metadata": {},
   "outputs": [],
   "source": [
    "import sounddevice as sd\n",
    "import numpy as np\n",
    "import soundfile as sf \n",
    "from scipy.io import wavfile\n",
    "import time\n",
    "from matplotlib import pyplot as plt"
   ]
  },
  {
   "cell_type": "markdown",
   "metadata": {},
   "source": [
    "La primera función, definida como get_data, se utilizó para que el usuario ingrese el tiempo de duracion de grabación y reproducción (t), y para que seleccione los dispositivos de entrada (mic) y de salida (spkr)."
   ]
  },
  {
   "cell_type": "code",
   "execution_count": 2,
   "metadata": {},
   "outputs": [],
   "source": [
    "def get_data():\n",
    "    t=int(input(\"Ingrese tiempo de grabacion y reproducción:\"))\n",
    "    print(sd.query_devices())\n",
    "    mic=int(input(\"Ingrese numero de dispositivo de entrada:\"))\n",
    "    spkr=int(input(\"Ingrese numero de dispositivo de salida:\"))\n",
    "    return(mic,spkr,t)"
   ]
  },
  {
   "cell_type": "markdown",
   "metadata": {},
   "source": [
    "Los valores de salida de 'get_data' se usaron como valores de entrada para 'playrecord', funcion que se encargó de reproducir y grabar en simultaneo. El comando que nos permitió hacer esto fue 'playrec' de sounddevice, con los dispositivos de entrada y salida especificados previamente. Al utilizar el comando 'sd.default.samplerate', la frecuencia de muestreo de la grabación va a coincidir automáticamente la del archivo wav seleccionado. Usar 'sd.default.device' sirve para seleccionar los dispositivos de entrada y salida previamente pedidos. Estos deben colocarse como un vector de dos posiciones siendo input y output respectivamente.\n",
    "\n",
    "La funcion del comando 'time.sleep' es la de poner en pausa el código durante 't' segundos, valor previamente ingresado por el usuario. Es por esto que la función 'sd.playrec' se va a ejecutar durante esos 't' segundos y luego se ejecutará el comando 'sd.stop', que detendrá la grabación."
   ]
  },
  {
   "cell_type": "code",
   "execution_count": 3,
   "metadata": {},
   "outputs": [],
   "source": [
    "def playrecord(mic,spkr,t):\n",
    "    sd.default.samplerate = frec\n",
    "    sd.default.device=mic,spkr\n",
    "    sd.default.channels=2\n",
    "    myrecording = sd.playrec(data,channels=1)\n",
    "    time.sleep(t)\n",
    "    sd.stop() \n",
    "    return myrecording"
   ]
  },
  {
   "cell_type": "markdown",
   "metadata": {},
   "source": [
    "Luego se guardó lo grabado como archivo wav:"
   ]
  },
  {
   "cell_type": "code",
   "execution_count": 4,
   "metadata": {},
   "outputs": [],
   "source": [
    "def get_wav(myrecording):\n",
    "    audio2 = (myrecording* np.iinfo(np.int16).max).astype(np.int16)\n",
    "    wavfile.write(\"grabacion.wav\",frec,audio2)\n",
    "    return"
   ]
  },
  {
   "cell_type": "markdown",
   "metadata": {},
   "source": [
    "Finalmente, el llamado a cada una de las funciones (MAIN):"
   ]
  },
  {
   "cell_type": "code",
   "execution_count": 5,
   "metadata": {},
   "outputs": [
    {
     "name": "stdout",
     "output_type": "stream",
     "text": [
      "   0 Microsoft Sound Mapper - Input, MME (2 in, 0 out)\n",
      ">  1 Micrófono (4- USB Camera-B4.09., MME (2 in, 0 out)\n",
      "   2 Virtual 1/2 (Studio 26c), MME (2 in, 0 out)\n",
      "   3 Mic/Inst/Line In 1/2 (Studio 26, MME (2 in, 0 out)\n",
      "   4 Microsoft Sound Mapper - Output, MME (0 in, 2 out)\n",
      "<  5 Main Out 1/2 (Studio 26c), MME (0 in, 2 out)\n",
      "   6 4 - M2380A (AMD High Definition, MME (0 in, 2 out)\n",
      "   7 Realtek Digital Output (Realtek, MME (0 in, 2 out)\n",
      "   8 Line Out 3/4 (Studio 26c), MME (0 in, 2 out)\n",
      "   9 Controlador primario de captura de sonido, Windows DirectSound (2 in, 0 out)\n",
      "  10 Micrófono (4- USB Camera-B4.09.24.1), Windows DirectSound (2 in, 0 out)\n",
      "  11 Virtual 1/2 (Studio 26c), Windows DirectSound (2 in, 0 out)\n",
      "  12 Mic/Inst/Line In 1/2 (Studio 26c), Windows DirectSound (2 in, 0 out)\n",
      "  13 Controlador primario de sonido, Windows DirectSound (0 in, 2 out)\n",
      "  14 Main Out 1/2 (Studio 26c), Windows DirectSound (0 in, 2 out)\n",
      "  15 4 - M2380A (AMD High Definition Audio Device), Windows DirectSound (0 in, 2 out)\n",
      "  16 Realtek Digital Output (Realtek(R) Audio), Windows DirectSound (0 in, 2 out)\n",
      "  17 Line Out 3/4 (Studio 26c), Windows DirectSound (0 in, 2 out)\n",
      "  18 ASIO4ALL v2, ASIO (2 in, 2 out)\n",
      "  19 BEHRINGER USB AUDIO, ASIO (2 in, 2 out)\n",
      "  20 FL Studio ASIO, ASIO (2 in, 2 out)\n",
      "  21 Studio USB ASIO Driver, ASIO (4 in, 4 out)\n",
      "  22 Main Out 1/2 (Studio 26c), Windows WASAPI (0 in, 2 out)\n",
      "  23 4 - M2380A (AMD High Definition Audio Device), Windows WASAPI (0 in, 2 out)\n",
      "  24 Realtek Digital Output (Realtek(R) Audio), Windows WASAPI (0 in, 2 out)\n",
      "  25 Line Out 3/4 (Studio 26c), Windows WASAPI (0 in, 2 out)\n",
      "  26 Virtual 1/2 (Studio 26c), Windows WASAPI (2 in, 0 out)\n",
      "  27 Mic/Inst/Line In 1/2 (Studio 26c), Windows WASAPI (2 in, 0 out)\n",
      "  28 Micrófono (4- USB Camera-B4.09.24.1), Windows WASAPI (4 in, 0 out)\n",
      "  29 Mic/Inst/Line In 1/2 (Mic/Inst/Line In 1/2), Windows WDM-KS (2 in, 0 out)\n",
      "  30 Line Out 3/4 (Line Out 3/4), Windows WDM-KS (0 in, 2 out)\n",
      "  31 Virtual 1/2 (Virtual 1/2), Windows WDM-KS (2 in, 0 out)\n",
      "  32 Main Out 1/2 (Main Out 1/2), Windows WDM-KS (0 in, 2 out)\n",
      "  33 Micrófono (Realtek HD Audio Mic input), Windows WDM-KS (2 in, 0 out)\n",
      "  34 SPDIF Out (Realtek HDA SPDIF Out), Windows WDM-KS (0 in, 2 out)\n",
      "  35 Mezcla estéreo (Realtek HD Audio Stereo input), Windows WDM-KS (2 in, 0 out)\n",
      "  36 Headphones (Realtek HD Audio 2nd output), Windows WDM-KS (0 in, 2 out)\n",
      "  37 Speakers (Realtek HDA Primary output), Windows WDM-KS (0 in, 6 out)\n",
      "  38 Línea de entrada (Realtek HD Audio Line input), Windows WDM-KS (2 in, 0 out)\n",
      "  39 Micrófono (USB Camera-B4.09.24.1), Windows WDM-KS (4 in, 0 out)\n",
      "  40 Output (AMD HD Audio HDMI out #3), Windows WDM-KS (0 in, 2 out)\n"
     ]
    }
   ],
   "source": [
    "data, frec = sf.read(\"Sine Sweep.wav\", dtype='float32') ##Toma la data del archivo\n",
    "mic,spkr,t=get_data()\n",
    "myrecording=playrecord(mic,spkr,t)\n",
    "get_wav(myrecording)"
   ]
  },
  {
   "cell_type": "markdown",
   "metadata": {},
   "source": []
  }
 ],
 "metadata": {
  "kernelspec": {
   "display_name": "base",
   "language": "python",
   "name": "python3"
  },
  "language_info": {
   "codemirror_mode": {
    "name": "ipython",
    "version": 3
   },
   "file_extension": ".py",
   "mimetype": "text/x-python",
   "name": "python",
   "nbconvert_exporter": "python",
   "pygments_lexer": "ipython3",
   "version": "3.12.2"
  }
 },
 "nbformat": 4,
 "nbformat_minor": 2
}
